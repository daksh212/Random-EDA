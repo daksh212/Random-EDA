{
 "cells": [
  {
   "cell_type": "markdown",
   "metadata": {},
   "source": [
    "\n",
    "### I wanted to import any required libraries, and look at the data. Also, I wanted to do some pleminary preprocessing so I could have some context before continuing with my EDA\n"
   ]
  },
  {
   "cell_type": "code",
   "execution_count": 1,
   "metadata": {},
   "outputs": [],
   "source": [
    "import matplotlib.pyplot as plt\n",
    "from IPython.display import display\n",
    "import numpy as np\n",
    "import pandas as pd\n",
    "import seaborn as sns; sns.set(style=\"ticks\", color_codes=True)"
   ]
  },
  {
   "cell_type": "code",
   "execution_count": 2,
   "metadata": {},
   "outputs": [],
   "source": [
    "df = pd.read_csv('master.csv')\n"
   ]
  },
  {
   "cell_type": "code",
   "execution_count": 3,
   "metadata": {},
   "outputs": [
    {
     "data": {
      "text/html": [
       "<div>\n",
       "<style scoped>\n",
       "    .dataframe tbody tr th:only-of-type {\n",
       "        vertical-align: middle;\n",
       "    }\n",
       "\n",
       "    .dataframe tbody tr th {\n",
       "        vertical-align: top;\n",
       "    }\n",
       "\n",
       "    .dataframe thead th {\n",
       "        text-align: right;\n",
       "    }\n",
       "</style>\n",
       "<table border=\"1\" class=\"dataframe\">\n",
       "  <thead>\n",
       "    <tr style=\"text-align: right;\">\n",
       "      <th></th>\n",
       "      <th>year</th>\n",
       "      <th>suicides_no</th>\n",
       "      <th>population</th>\n",
       "      <th>suicides/100k pop</th>\n",
       "      <th>HDI for year</th>\n",
       "      <th>gdp_per_capita ($)</th>\n",
       "    </tr>\n",
       "  </thead>\n",
       "  <tbody>\n",
       "    <tr>\n",
       "      <th>year</th>\n",
       "      <td>1.000000</td>\n",
       "      <td>-0.004546</td>\n",
       "      <td>0.008850</td>\n",
       "      <td>-0.039037</td>\n",
       "      <td>0.366786</td>\n",
       "      <td>0.339134</td>\n",
       "    </tr>\n",
       "    <tr>\n",
       "      <th>suicides_no</th>\n",
       "      <td>-0.004546</td>\n",
       "      <td>1.000000</td>\n",
       "      <td>0.616162</td>\n",
       "      <td>0.306604</td>\n",
       "      <td>0.151399</td>\n",
       "      <td>0.061330</td>\n",
       "    </tr>\n",
       "    <tr>\n",
       "      <th>population</th>\n",
       "      <td>0.008850</td>\n",
       "      <td>0.616162</td>\n",
       "      <td>1.000000</td>\n",
       "      <td>0.008285</td>\n",
       "      <td>0.102943</td>\n",
       "      <td>0.081510</td>\n",
       "    </tr>\n",
       "    <tr>\n",
       "      <th>suicides/100k pop</th>\n",
       "      <td>-0.039037</td>\n",
       "      <td>0.306604</td>\n",
       "      <td>0.008285</td>\n",
       "      <td>1.000000</td>\n",
       "      <td>0.074279</td>\n",
       "      <td>0.001785</td>\n",
       "    </tr>\n",
       "    <tr>\n",
       "      <th>HDI for year</th>\n",
       "      <td>0.366786</td>\n",
       "      <td>0.151399</td>\n",
       "      <td>0.102943</td>\n",
       "      <td>0.074279</td>\n",
       "      <td>1.000000</td>\n",
       "      <td>0.771228</td>\n",
       "    </tr>\n",
       "    <tr>\n",
       "      <th>gdp_per_capita ($)</th>\n",
       "      <td>0.339134</td>\n",
       "      <td>0.061330</td>\n",
       "      <td>0.081510</td>\n",
       "      <td>0.001785</td>\n",
       "      <td>0.771228</td>\n",
       "      <td>1.000000</td>\n",
       "    </tr>\n",
       "  </tbody>\n",
       "</table>\n",
       "</div>"
      ],
      "text/plain": [
       "                        year  suicides_no  population  suicides/100k pop  \\\n",
       "year                1.000000    -0.004546    0.008850          -0.039037   \n",
       "suicides_no        -0.004546     1.000000    0.616162           0.306604   \n",
       "population          0.008850     0.616162    1.000000           0.008285   \n",
       "suicides/100k pop  -0.039037     0.306604    0.008285           1.000000   \n",
       "HDI for year        0.366786     0.151399    0.102943           0.074279   \n",
       "gdp_per_capita ($)  0.339134     0.061330    0.081510           0.001785   \n",
       "\n",
       "                    HDI for year  gdp_per_capita ($)  \n",
       "year                    0.366786            0.339134  \n",
       "suicides_no             0.151399            0.061330  \n",
       "population              0.102943            0.081510  \n",
       "suicides/100k pop       0.074279            0.001785  \n",
       "HDI for year            1.000000            0.771228  \n",
       "gdp_per_capita ($)      0.771228            1.000000  "
      ]
     },
     "execution_count": 3,
     "metadata": {},
     "output_type": "execute_result"
    }
   ],
   "source": [
    "#to see what is correlated with suicide number on the surface level\n",
    "df.corr()"
   ]
  },
  {
   "cell_type": "code",
   "execution_count": 4,
   "metadata": {},
   "outputs": [
    {
     "data": {
      "text/plain": [
       "Index(['country', 'year', 'sex', 'age', 'suicides_no', 'population',\n",
       "       'suicides/100k pop', 'country-year', 'HDI for year',\n",
       "       ' gdp_for_year ($) ', 'gdp_per_capita ($)', 'generation'],\n",
       "      dtype='object')"
      ]
     },
     "execution_count": 4,
     "metadata": {},
     "output_type": "execute_result"
    }
   ],
   "source": [
    "df.columns"
   ]
  },
  {
   "cell_type": "code",
   "execution_count": 5,
   "metadata": {},
   "outputs": [
    {
     "name": "stdout",
     "output_type": "stream",
     "text": [
      "#total= 27820\n",
      "#duplicated= 0\n"
     ]
    }
   ],
   "source": [
    "# Check for duplicates, which adds a new column to the dataset\n",
    "df[\"is_duplicate\"]= df.duplicated()\n",
    "\n",
    "\n",
    "print(f\"#total= {len(df)}\")\n",
    "print(f\"#duplicated= {len(df[df['is_duplicate']==True])}\")"
   ]
  },
  {
   "cell_type": "markdown",
   "metadata": {},
   "source": [
    "\n",
    "The most important information to machine learn would be suicide rate / 100k. It can be learned because it can be plotted and mapped, but at the end of the day human behaviour and mental health diseases cannot be generalised and reduced to numbers. Every human's emotion is unique and cannot be generalised down to a predicted outcome. <br> \n",
    "\n",
    "Although usually most ML algorithms have overlap of both, classification predicts discrete class labels. Since my goal is to develop a machine learned model to predict, if the outcome would be suicide or not, as a binary dependent variable, a classification problem would be best. <br>"
   ]
  },
  {
   "cell_type": "markdown",
   "metadata": {},
   "source": [
    "\n",
    "Upon first glance, and with the help of df.corr(), The dependent variable should be 'suicides/100k pop'. This is what we are trying to predict as it gives the most holistic information about suicides occuring in the population, regardless of the absolute total number.\n"
   ]
  },
  {
   "cell_type": "markdown",
   "metadata": {},
   "source": [
    "\n",
    "Performing df.corr() on all the variables will help in ranking the features. However not all the columns are numerical and some are categorical, so they need to be converted to numerical by doing one hot encoding or factorizing. I think, personally, one hot encoding works for this particular dataset. <br>"
   ]
  },
  {
   "cell_type": "markdown",
   "metadata": {},
   "source": [
    "\n",
    "Some preprocessing was done before my writeups. I will now check if there are any NaN values of the sort. Already checked that there are no duplicates. <br>\n",
    "\n",
    "First, in my experience, coding langauges do not do well with spaces as characters, so I will rename some columns, like HDI for year.\n",
    "\n"
   ]
  },
  {
   "cell_type": "code",
   "execution_count": 6,
   "metadata": {},
   "outputs": [
    {
     "data": {
      "text/plain": [
       "country               False\n",
       "year                  False\n",
       "sex                   False\n",
       "age                   False\n",
       "suicides_no           False\n",
       "population            False\n",
       "suicides/100k pop     False\n",
       "country-year          False\n",
       "yearly_HDI             True\n",
       "gdp                   False\n",
       "gdp_per_capita ($)    False\n",
       "generation            False\n",
       "is_duplicate          False\n",
       "dtype: bool"
      ]
     },
     "execution_count": 6,
     "metadata": {},
     "output_type": "execute_result"
    }
   ],
   "source": [
    "#renaming columns\n",
    "df.rename(columns={\"HDI for year\":\"yearly_HDI\"}, inplace=True)\n",
    "df.rename(columns={\" gdp_for_year ($) \":\"gdp\"}, inplace=True)\n",
    "\n",
    "# Do we have NaN in our dataset?\n",
    "df.isnull().any()"
   ]
  },
  {
   "cell_type": "markdown",
   "metadata": {},
   "source": [
    "There are only NaN values in 'HDI for year'."
   ]
  },
  {
   "cell_type": "code",
   "execution_count": 7,
   "metadata": {},
   "outputs": [
    {
     "name": "stdout",
     "output_type": "stream",
     "text": [
      "There are 19456 entries with NaN in yearly_HDI column\n",
      "That means, 69.9352983465133 % of entries are NaN values in this column.\n"
     ]
    }
   ],
   "source": [
    "x = df['yearly_HDI'].isnull().sum()\n",
    "y = len(df['yearly_HDI'])\n",
    "print ('There are',x,'entries with NaN in yearly_HDI column')\n",
    "print ('That means,',100*x/y,'% of entries are NaN values in this column.')"
   ]
  },
  {
   "cell_type": "markdown",
   "metadata": {},
   "source": [
    "Clearly, it would be wise to drop this feature. Lets also drop 'country' and 'year' since there is already a country-year variable making the other two redundant. Also dropping gdp since there is already a gdp per capita\n"
   ]
  },
  {
   "cell_type": "code",
   "execution_count": 8,
   "metadata": {},
   "outputs": [],
   "source": [
    "cols = ['year','yearly_HDI','country','gdp','is_duplicate']\n",
    "df=df.drop(cols,axis='columns')\n",
    "\n"
   ]
  },
  {
   "cell_type": "code",
   "execution_count": 10,
   "metadata": {},
   "outputs": [
    {
     "data": {
      "text/html": [
       "<div>\n",
       "<style scoped>\n",
       "    .dataframe tbody tr th:only-of-type {\n",
       "        vertical-align: middle;\n",
       "    }\n",
       "\n",
       "    .dataframe tbody tr th {\n",
       "        vertical-align: top;\n",
       "    }\n",
       "\n",
       "    .dataframe thead th {\n",
       "        text-align: right;\n",
       "    }\n",
       "</style>\n",
       "<table border=\"1\" class=\"dataframe\">\n",
       "  <thead>\n",
       "    <tr style=\"text-align: right;\">\n",
       "      <th></th>\n",
       "      <th>sex</th>\n",
       "      <th>age</th>\n",
       "      <th>suicides_no</th>\n",
       "      <th>population</th>\n",
       "      <th>suicides/100k pop</th>\n",
       "      <th>country-year</th>\n",
       "      <th>gdp_per_capita ($)</th>\n",
       "      <th>generation</th>\n",
       "    </tr>\n",
       "  </thead>\n",
       "  <tbody>\n",
       "    <tr>\n",
       "      <th>0</th>\n",
       "      <td>male</td>\n",
       "      <td>15-24 years</td>\n",
       "      <td>21</td>\n",
       "      <td>312900</td>\n",
       "      <td>6.71</td>\n",
       "      <td>Albania1987</td>\n",
       "      <td>796</td>\n",
       "      <td>Generation X</td>\n",
       "    </tr>\n",
       "    <tr>\n",
       "      <th>1</th>\n",
       "      <td>male</td>\n",
       "      <td>35-54 years</td>\n",
       "      <td>16</td>\n",
       "      <td>308000</td>\n",
       "      <td>5.19</td>\n",
       "      <td>Albania1987</td>\n",
       "      <td>796</td>\n",
       "      <td>Silent</td>\n",
       "    </tr>\n",
       "    <tr>\n",
       "      <th>2</th>\n",
       "      <td>female</td>\n",
       "      <td>15-24 years</td>\n",
       "      <td>14</td>\n",
       "      <td>289700</td>\n",
       "      <td>4.83</td>\n",
       "      <td>Albania1987</td>\n",
       "      <td>796</td>\n",
       "      <td>Generation X</td>\n",
       "    </tr>\n",
       "    <tr>\n",
       "      <th>3</th>\n",
       "      <td>male</td>\n",
       "      <td>75+ years</td>\n",
       "      <td>1</td>\n",
       "      <td>21800</td>\n",
       "      <td>4.59</td>\n",
       "      <td>Albania1987</td>\n",
       "      <td>796</td>\n",
       "      <td>G.I. Generation</td>\n",
       "    </tr>\n",
       "    <tr>\n",
       "      <th>4</th>\n",
       "      <td>male</td>\n",
       "      <td>25-34 years</td>\n",
       "      <td>9</td>\n",
       "      <td>274300</td>\n",
       "      <td>3.28</td>\n",
       "      <td>Albania1987</td>\n",
       "      <td>796</td>\n",
       "      <td>Boomers</td>\n",
       "    </tr>\n",
       "  </tbody>\n",
       "</table>\n",
       "</div>"
      ],
      "text/plain": [
       "      sex          age  suicides_no  population  suicides/100k pop  \\\n",
       "0    male  15-24 years           21      312900               6.71   \n",
       "1    male  35-54 years           16      308000               5.19   \n",
       "2  female  15-24 years           14      289700               4.83   \n",
       "3    male    75+ years            1       21800               4.59   \n",
       "4    male  25-34 years            9      274300               3.28   \n",
       "\n",
       "  country-year  gdp_per_capita ($)       generation  \n",
       "0  Albania1987                 796     Generation X  \n",
       "1  Albania1987                 796           Silent  \n",
       "2  Albania1987                 796     Generation X  \n",
       "3  Albania1987                 796  G.I. Generation  \n",
       "4  Albania1987                 796          Boomers  "
      ]
     },
     "execution_count": 10,
     "metadata": {},
     "output_type": "execute_result"
    }
   ],
   "source": [
    "#sanity check\n",
    "df.head()"
   ]
  },
  {
   "cell_type": "code",
   "execution_count": 11,
   "metadata": {},
   "outputs": [
    {
     "name": "stdout",
     "output_type": "stream",
     "text": [
      "sex ['male' 'female']\n",
      "age ['15-24 years' '35-54 years' '75+ years' '25-34 years' '55-74 years'\n",
      " '5-14 years']\n",
      "country-year ['Albania1987' 'Albania1988' 'Albania1989' ... 'Uzbekistan2012'\n",
      " 'Uzbekistan2013' 'Uzbekistan2014']\n",
      "generation ['Generation X' 'Silent' 'G.I. Generation' 'Boomers' 'Millenials'\n",
      " 'Generation Z']\n"
     ]
    }
   ],
   "source": [
    "#To check missing nominal values, lets use a loop function\n",
    "for col in df.columns:\n",
    "    if df[col].dtype == object:\n",
    "        print(col, df[col].unique())"
   ]
  },
  {
   "cell_type": "markdown",
   "metadata": {},
   "source": [
    "Luckily, there are no '?' so nothing needs to be imputed\n",
    "\n",
    "## One Hot Encoding so that Random Tree Forest Classifier can be devised"
   ]
  },
  {
   "cell_type": "code",
   "execution_count": 12,
   "metadata": {},
   "outputs": [
    {
     "name": "stdout",
     "output_type": "stream",
     "text": [
      "sex\n",
      "age\n",
      "country-year\n",
      "generation\n"
     ]
    }
   ],
   "source": [
    "def encode_onehot(_df, _f):\n",
    "    _df2 = pd.get_dummies(_df[_f], prefix='', prefix_sep='').groupby(level=0, axis=1).max().add_prefix(_f+' - ')\n",
    "    _df3 = pd.concat([_df, _df2], axis=1)\n",
    "    _df3 = _df3.drop([_f], axis=1)\n",
    "    return _df3\n",
    "\n",
    "# Print nominal variables\n",
    "for f in list(df.columns.values):\n",
    "    if df[f].dtype == object:\n",
    "        print(f) "
   ]
  },
  {
   "cell_type": "code",
   "execution_count": 13,
   "metadata": {},
   "outputs": [
    {
     "data": {
      "text/plain": [
       "0      male\n",
       "1      male\n",
       "2    female\n",
       "3      male\n",
       "4      male\n",
       "5    female\n",
       "6    female\n",
       "7    female\n",
       "8      male\n",
       "9    female\n",
       "Name: sex, dtype: object"
      ]
     },
     "metadata": {},
     "output_type": "display_data"
    }
   ],
   "source": [
    "# Display the original\n",
    "display(df['sex'][:10])\n",
    "\n",
    "# Apply the onehot-encoding method\n",
    "df_o = encode_onehot(df, 'sex')\n",
    "\n",
    "# Check the onehot-encoded version of this feature\n",
    "cols = []\n",
    "for f in list(df_o.columns.values):\n",
    "    if 'sex' in f:\n",
    "        cols += [f]"
   ]
  },
  {
   "cell_type": "code",
   "execution_count": 14,
   "metadata": {},
   "outputs": [
    {
     "data": {
      "text/html": [
       "<div>\n",
       "<style scoped>\n",
       "    .dataframe tbody tr th:only-of-type {\n",
       "        vertical-align: middle;\n",
       "    }\n",
       "\n",
       "    .dataframe tbody tr th {\n",
       "        vertical-align: top;\n",
       "    }\n",
       "\n",
       "    .dataframe thead th {\n",
       "        text-align: right;\n",
       "    }\n",
       "</style>\n",
       "<table border=\"1\" class=\"dataframe\">\n",
       "  <thead>\n",
       "    <tr style=\"text-align: right;\">\n",
       "      <th></th>\n",
       "      <th>sex - female</th>\n",
       "      <th>sex - male</th>\n",
       "    </tr>\n",
       "  </thead>\n",
       "  <tbody>\n",
       "    <tr>\n",
       "      <th>0</th>\n",
       "      <td>0</td>\n",
       "      <td>1</td>\n",
       "    </tr>\n",
       "    <tr>\n",
       "      <th>1</th>\n",
       "      <td>0</td>\n",
       "      <td>1</td>\n",
       "    </tr>\n",
       "    <tr>\n",
       "      <th>2</th>\n",
       "      <td>1</td>\n",
       "      <td>0</td>\n",
       "    </tr>\n",
       "    <tr>\n",
       "      <th>3</th>\n",
       "      <td>0</td>\n",
       "      <td>1</td>\n",
       "    </tr>\n",
       "    <tr>\n",
       "      <th>4</th>\n",
       "      <td>0</td>\n",
       "      <td>1</td>\n",
       "    </tr>\n",
       "    <tr>\n",
       "      <th>5</th>\n",
       "      <td>1</td>\n",
       "      <td>0</td>\n",
       "    </tr>\n",
       "    <tr>\n",
       "      <th>6</th>\n",
       "      <td>1</td>\n",
       "      <td>0</td>\n",
       "    </tr>\n",
       "    <tr>\n",
       "      <th>7</th>\n",
       "      <td>1</td>\n",
       "      <td>0</td>\n",
       "    </tr>\n",
       "    <tr>\n",
       "      <th>8</th>\n",
       "      <td>0</td>\n",
       "      <td>1</td>\n",
       "    </tr>\n",
       "    <tr>\n",
       "      <th>9</th>\n",
       "      <td>1</td>\n",
       "      <td>0</td>\n",
       "    </tr>\n",
       "  </tbody>\n",
       "</table>\n",
       "</div>"
      ],
      "text/plain": [
       "   sex - female  sex - male\n",
       "0             0           1\n",
       "1             0           1\n",
       "2             1           0\n",
       "3             0           1\n",
       "4             0           1\n",
       "5             1           0\n",
       "6             1           0\n",
       "7             1           0\n",
       "8             0           1\n",
       "9             1           0"
      ]
     },
     "metadata": {},
     "output_type": "display_data"
    }
   ],
   "source": [
    "# Display the onehot-encoded        \n",
    "display(df_o[cols][:10])"
   ]
  },
  {
   "cell_type": "code",
   "execution_count": 15,
   "metadata": {},
   "outputs": [],
   "source": [
    "#apply one hot encoding to all the nominal columns\n",
    "df_o = encode_onehot(df_o, 'country-year')\n",
    "df_o = encode_onehot(df_o, 'age')\n",
    "df_o = encode_onehot(df_o, 'generation')\n"
   ]
  },
  {
   "cell_type": "code",
   "execution_count": 16,
   "metadata": {},
   "outputs": [
    {
     "name": "stdout",
     "output_type": "stream",
     "text": [
      "before=8, after=2339\n"
     ]
    },
    {
     "data": {
      "text/html": [
       "<div>\n",
       "<style scoped>\n",
       "    .dataframe tbody tr th:only-of-type {\n",
       "        vertical-align: middle;\n",
       "    }\n",
       "\n",
       "    .dataframe tbody tr th {\n",
       "        vertical-align: top;\n",
       "    }\n",
       "\n",
       "    .dataframe thead th {\n",
       "        text-align: right;\n",
       "    }\n",
       "</style>\n",
       "<table border=\"1\" class=\"dataframe\">\n",
       "  <thead>\n",
       "    <tr style=\"text-align: right;\">\n",
       "      <th></th>\n",
       "      <th>suicides_no</th>\n",
       "      <th>population</th>\n",
       "      <th>suicides/100k pop</th>\n",
       "      <th>gdp_per_capita ($)</th>\n",
       "      <th>sex - female</th>\n",
       "      <th>sex - male</th>\n",
       "      <th>country-year - Albania1987</th>\n",
       "      <th>country-year - Albania1988</th>\n",
       "      <th>country-year - Albania1989</th>\n",
       "      <th>country-year - Albania1992</th>\n",
       "      <th>...</th>\n",
       "      <th>age - 35-54 years</th>\n",
       "      <th>age - 5-14 years</th>\n",
       "      <th>age - 55-74 years</th>\n",
       "      <th>age - 75+ years</th>\n",
       "      <th>generation - Boomers</th>\n",
       "      <th>generation - G.I. Generation</th>\n",
       "      <th>generation - Generation X</th>\n",
       "      <th>generation - Generation Z</th>\n",
       "      <th>generation - Millenials</th>\n",
       "      <th>generation - Silent</th>\n",
       "    </tr>\n",
       "  </thead>\n",
       "  <tbody>\n",
       "    <tr>\n",
       "      <th>0</th>\n",
       "      <td>21</td>\n",
       "      <td>312900</td>\n",
       "      <td>6.71</td>\n",
       "      <td>796</td>\n",
       "      <td>0</td>\n",
       "      <td>1</td>\n",
       "      <td>1</td>\n",
       "      <td>0</td>\n",
       "      <td>0</td>\n",
       "      <td>0</td>\n",
       "      <td>...</td>\n",
       "      <td>0</td>\n",
       "      <td>0</td>\n",
       "      <td>0</td>\n",
       "      <td>0</td>\n",
       "      <td>0</td>\n",
       "      <td>0</td>\n",
       "      <td>1</td>\n",
       "      <td>0</td>\n",
       "      <td>0</td>\n",
       "      <td>0</td>\n",
       "    </tr>\n",
       "    <tr>\n",
       "      <th>1</th>\n",
       "      <td>16</td>\n",
       "      <td>308000</td>\n",
       "      <td>5.19</td>\n",
       "      <td>796</td>\n",
       "      <td>0</td>\n",
       "      <td>1</td>\n",
       "      <td>1</td>\n",
       "      <td>0</td>\n",
       "      <td>0</td>\n",
       "      <td>0</td>\n",
       "      <td>...</td>\n",
       "      <td>1</td>\n",
       "      <td>0</td>\n",
       "      <td>0</td>\n",
       "      <td>0</td>\n",
       "      <td>0</td>\n",
       "      <td>0</td>\n",
       "      <td>0</td>\n",
       "      <td>0</td>\n",
       "      <td>0</td>\n",
       "      <td>1</td>\n",
       "    </tr>\n",
       "    <tr>\n",
       "      <th>2</th>\n",
       "      <td>14</td>\n",
       "      <td>289700</td>\n",
       "      <td>4.83</td>\n",
       "      <td>796</td>\n",
       "      <td>1</td>\n",
       "      <td>0</td>\n",
       "      <td>1</td>\n",
       "      <td>0</td>\n",
       "      <td>0</td>\n",
       "      <td>0</td>\n",
       "      <td>...</td>\n",
       "      <td>0</td>\n",
       "      <td>0</td>\n",
       "      <td>0</td>\n",
       "      <td>0</td>\n",
       "      <td>0</td>\n",
       "      <td>0</td>\n",
       "      <td>1</td>\n",
       "      <td>0</td>\n",
       "      <td>0</td>\n",
       "      <td>0</td>\n",
       "    </tr>\n",
       "    <tr>\n",
       "      <th>3</th>\n",
       "      <td>1</td>\n",
       "      <td>21800</td>\n",
       "      <td>4.59</td>\n",
       "      <td>796</td>\n",
       "      <td>0</td>\n",
       "      <td>1</td>\n",
       "      <td>1</td>\n",
       "      <td>0</td>\n",
       "      <td>0</td>\n",
       "      <td>0</td>\n",
       "      <td>...</td>\n",
       "      <td>0</td>\n",
       "      <td>0</td>\n",
       "      <td>0</td>\n",
       "      <td>1</td>\n",
       "      <td>0</td>\n",
       "      <td>1</td>\n",
       "      <td>0</td>\n",
       "      <td>0</td>\n",
       "      <td>0</td>\n",
       "      <td>0</td>\n",
       "    </tr>\n",
       "    <tr>\n",
       "      <th>4</th>\n",
       "      <td>9</td>\n",
       "      <td>274300</td>\n",
       "      <td>3.28</td>\n",
       "      <td>796</td>\n",
       "      <td>0</td>\n",
       "      <td>1</td>\n",
       "      <td>1</td>\n",
       "      <td>0</td>\n",
       "      <td>0</td>\n",
       "      <td>0</td>\n",
       "      <td>...</td>\n",
       "      <td>0</td>\n",
       "      <td>0</td>\n",
       "      <td>0</td>\n",
       "      <td>0</td>\n",
       "      <td>1</td>\n",
       "      <td>0</td>\n",
       "      <td>0</td>\n",
       "      <td>0</td>\n",
       "      <td>0</td>\n",
       "      <td>0</td>\n",
       "    </tr>\n",
       "  </tbody>\n",
       "</table>\n",
       "<p>5 rows × 2339 columns</p>\n",
       "</div>"
      ],
      "text/plain": [
       "   suicides_no  population  suicides/100k pop  gdp_per_capita ($)  \\\n",
       "0           21      312900               6.71                 796   \n",
       "1           16      308000               5.19                 796   \n",
       "2           14      289700               4.83                 796   \n",
       "3            1       21800               4.59                 796   \n",
       "4            9      274300               3.28                 796   \n",
       "\n",
       "   sex - female  sex - male  country-year - Albania1987  \\\n",
       "0             0           1                           1   \n",
       "1             0           1                           1   \n",
       "2             1           0                           1   \n",
       "3             0           1                           1   \n",
       "4             0           1                           1   \n",
       "\n",
       "   country-year - Albania1988  country-year - Albania1989  \\\n",
       "0                           0                           0   \n",
       "1                           0                           0   \n",
       "2                           0                           0   \n",
       "3                           0                           0   \n",
       "4                           0                           0   \n",
       "\n",
       "   country-year - Albania1992  ...  age - 35-54 years  age - 5-14 years  \\\n",
       "0                           0  ...                  0                 0   \n",
       "1                           0  ...                  1                 0   \n",
       "2                           0  ...                  0                 0   \n",
       "3                           0  ...                  0                 0   \n",
       "4                           0  ...                  0                 0   \n",
       "\n",
       "   age - 55-74 years  age - 75+ years  generation - Boomers  \\\n",
       "0                  0                0                     0   \n",
       "1                  0                0                     0   \n",
       "2                  0                0                     0   \n",
       "3                  0                1                     0   \n",
       "4                  0                0                     1   \n",
       "\n",
       "   generation - G.I. Generation  generation - Generation X  \\\n",
       "0                             0                          1   \n",
       "1                             0                          0   \n",
       "2                             0                          1   \n",
       "3                             1                          0   \n",
       "4                             0                          0   \n",
       "\n",
       "   generation - Generation Z  generation - Millenials  generation - Silent  \n",
       "0                          0                        0                    0  \n",
       "1                          0                        0                    1  \n",
       "2                          0                        0                    0  \n",
       "3                          0                        0                    0  \n",
       "4                          0                        0                    0  \n",
       "\n",
       "[5 rows x 2339 columns]"
      ]
     },
     "execution_count": 16,
     "metadata": {},
     "output_type": "execute_result"
    }
   ],
   "source": [
    "#shows if the one hot encoding worked\n",
    "print(f'before={len(df.columns)}, after={len(df_o.columns)}')\n",
    "df_o.head()"
   ]
  },
  {
   "cell_type": "code",
   "execution_count": 18,
   "metadata": {},
   "outputs": [],
   "source": [
    "X = df_o.loc[:, df_o.columns != 'suicides/100k pop'].values\n",
    "y = df_o.loc[:, df_o.columns == 'suicides/100k pop'].values.ravel()\n"
   ]
  },
  {
   "cell_type": "code",
   "execution_count": 19,
   "metadata": {},
   "outputs": [
    {
     "data": {
      "text/plain": [
       "count    27820.000000\n",
       "mean        12.816097\n",
       "std         18.961511\n",
       "min          0.000000\n",
       "25%          0.920000\n",
       "50%          5.990000\n",
       "75%         16.620000\n",
       "max        224.970000\n",
       "Name: suicides/100k pop, dtype: float64"
      ]
     },
     "execution_count": 19,
     "metadata": {},
     "output_type": "execute_result"
    }
   ],
   "source": [
    "df['suicides/100k pop'].describe()"
   ]
  },
  {
   "cell_type": "code",
   "execution_count": 21,
   "metadata": {},
   "outputs": [],
   "source": [
    "#binning the variables acccordingly to apply the random tree classifier\n",
    "bins = [0, 1, 6, 17,225]\n",
    "labels = ['D','C', 'B', 'A']\n",
    "y = df['bin_suicide'] = pd.cut(df['suicides/100k pop'], bins = bins, labels = labels, include_lowest = True)"
   ]
  },
  {
   "cell_type": "code",
   "execution_count": 22,
   "metadata": {},
   "outputs": [],
   "source": [
    "#random tree classifier \n",
    "\n",
    "from sklearn.ensemble import RandomForestClassifier\n",
    "from sklearn.metrics import accuracy_score, f1_score\n",
    "from sklearn.model_selection import KFold, StratifiedKFold, train_test_split\n",
    "\n",
    "def rf_train_test(_X_tr, _X_ts, _y_tr, _y_ts):\n",
    "    # Create a new random forest classifier, with working 4 parallel cores\n",
    "    rf = RandomForestClassifier(n_estimators=200, max_depth=5, random_state=None, n_jobs=4)\n",
    "    # Train on training data\n",
    "    rf.fit(_X_tr, _y_tr)\n",
    "    # Test on training data\n",
    "    y_pred = rf.predict(_X_ts)\n",
    "    # Return more proper evaluation metric\n",
    "    # return f1_score(_y_ts, y_pred, pos_label='recurrence-events', zero_division=0)\n",
    "    # Return accuracy\n",
    "    return accuracy_score(_y_ts, y_pred)"
   ]
  },
  {
   "cell_type": "code",
   "execution_count": 23,
   "metadata": {},
   "outputs": [
    {
     "name": "stdout",
     "output_type": "stream",
     "text": [
      "Stratified 10-fold cross validation accuracy is 0.630 ±0.0291 with 100 total iterations\n"
     ]
    }
   ],
   "source": [
    "def eval_classifier(_X, _y, niter):\n",
    "    accuracies = []\n",
    "    kf = StratifiedKFold(n_splits=10,shuffle=False,random_state=None)\n",
    "    for tr_ix, ts_ix in kf.split(_X, _y):\n",
    "        accuracy = rf_train_test(_X[tr_ix], _X[ts_ix], _y[tr_ix], _y[ts_ix])\n",
    "        accuracies += [accuracy]\n",
    "    print( (f'Stratified 10-fold cross validation accuracy is '\n",
    "            f'{np.mean(accuracies):.3f} {chr(177)}{np.std(accuracies):.4f} with {niter} total iterations')\n",
    "         )\n",
    "\n",
    "eval_classifier(X, y, 100)"
   ]
  },
  {
   "cell_type": "markdown",
   "metadata": {},
   "source": [
    "Classifier applied with a 63% accuracy"
   ]
  },
  {
   "cell_type": "markdown",
   "metadata": {},
   "source": []
  }
 ],
 "metadata": {
  "interpreter": {
   "hash": "aee8b7b246df8f9039afb4144a1f6fd8d2ca17a180786b69acc140d282b71a49"
  },
  "kernelspec": {
   "display_name": "Python 3.10.0 64-bit",
   "language": "python",
   "name": "python3"
  },
  "language_info": {
   "codemirror_mode": {
    "name": "ipython",
    "version": 3
   },
   "file_extension": ".py",
   "mimetype": "text/x-python",
   "name": "python",
   "nbconvert_exporter": "python",
   "pygments_lexer": "ipython3",
   "version": "3.10.0"
  },
  "orig_nbformat": 4
 },
 "nbformat": 4,
 "nbformat_minor": 2
}
